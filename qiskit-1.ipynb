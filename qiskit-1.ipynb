{
 "cells": [
  {
   "cell_type": "code",
   "execution_count": 13,
   "metadata": {},
   "outputs": [],
   "source": [
    "import qiskit\n"
   ]
  },
  {
   "cell_type": "code",
   "execution_count": 14,
   "metadata": {},
   "outputs": [
    {
     "data": {
      "text/plain": [
       "'1.0.2'"
      ]
     },
     "execution_count": 14,
     "metadata": {},
     "output_type": "execute_result"
    }
   ],
   "source": [
    "qiskit.__version__"
   ]
  },
  {
   "cell_type": "code",
   "execution_count": 15,
   "metadata": {},
   "outputs": [],
   "source": [
    "from qiskit_ibm_runtime import QiskitRuntimeService\n",
    "\n",
    "service = QiskitRuntimeService(channel=\"ibm_quantum\", # ibm cloud\n",
    "                               token = \"my token\")"
   ]
  },
  {
   "cell_type": "code",
   "execution_count": 17,
   "metadata": {},
   "outputs": [
    {
     "ename": "AccountAlreadyExistsError",
     "evalue": "'Named account (default-ibm-quantum) already exists. Set overwrite=True to overwrite.'",
     "output_type": "error",
     "traceback": [
      "\u001b[0;31m---------------------------------------------------------------------------\u001b[0m",
      "\u001b[0;31mAccountAlreadyExistsError\u001b[0m                 Traceback (most recent call last)",
      "Cell \u001b[0;32mIn[17], line 1\u001b[0m\n\u001b[0;32m----> 1\u001b[0m QiskitRuntimeService\u001b[39m.\u001b[39;49msave_account(channel\u001b[39m=\u001b[39;49m\u001b[39m\"\u001b[39;49m\u001b[39mibm_quantum\u001b[39;49m\u001b[39m\"\u001b[39;49m,\n\u001b[1;32m      2\u001b[0m                                token \u001b[39m=\u001b[39;49m \u001b[39m\"\u001b[39;49m\u001b[39m6a4314c96f9b387254dc8478fc985bfa21eccb2130496522c21d4fd750693154eeef30c828358146d6fb9b170c1309d3132e775b9e8f23b1163ab94688a8087d\u001b[39;49m\u001b[39m\"\u001b[39;49m)\n",
      "File \u001b[0;32m/opt/miniconda3/envs/cwq/lib/python3.12/site-packages/qiskit_ibm_runtime/qiskit_runtime_service.py:713\u001b[0m, in \u001b[0;36mQiskitRuntimeService.save_account\u001b[0;34m(token, url, instance, channel, filename, name, proxies, verify, overwrite, channel_strategy, set_as_default)\u001b[0m\n\u001b[1;32m    676\u001b[0m \u001b[39m@staticmethod\u001b[39m\n\u001b[1;32m    677\u001b[0m \u001b[39mdef\u001b[39;00m \u001b[39msave_account\u001b[39m(\n\u001b[1;32m    678\u001b[0m     token: Optional[\u001b[39mstr\u001b[39m] \u001b[39m=\u001b[39m \u001b[39mNone\u001b[39;00m,\n\u001b[0;32m   (...)\u001b[0m\n\u001b[1;32m    688\u001b[0m     set_as_default: Optional[\u001b[39mbool\u001b[39m] \u001b[39m=\u001b[39m \u001b[39mNone\u001b[39;00m,\n\u001b[1;32m    689\u001b[0m ) \u001b[39m-\u001b[39m\u001b[39m>\u001b[39m \u001b[39mNone\u001b[39;00m:\n\u001b[1;32m    690\u001b[0m \u001b[39m    \u001b[39m\u001b[39m\"\"\"Save the account to disk for future use.\u001b[39;00m\n\u001b[1;32m    691\u001b[0m \n\u001b[1;32m    692\u001b[0m \u001b[39m    Args:\u001b[39;00m\n\u001b[0;32m   (...)\u001b[0m\n\u001b[1;32m    710\u001b[0m \u001b[39m            as the default account.\u001b[39;00m\n\u001b[1;32m    711\u001b[0m \u001b[39m    \"\"\"\u001b[39;00m\n\u001b[0;32m--> 713\u001b[0m     AccountManager\u001b[39m.\u001b[39;49msave(\n\u001b[1;32m    714\u001b[0m         token\u001b[39m=\u001b[39;49mtoken,\n\u001b[1;32m    715\u001b[0m         url\u001b[39m=\u001b[39;49murl,\n\u001b[1;32m    716\u001b[0m         instance\u001b[39m=\u001b[39;49minstance,\n\u001b[1;32m    717\u001b[0m         channel\u001b[39m=\u001b[39;49mchannel,\n\u001b[1;32m    718\u001b[0m         filename\u001b[39m=\u001b[39;49mfilename,\n\u001b[1;32m    719\u001b[0m         name\u001b[39m=\u001b[39;49mname,\n\u001b[1;32m    720\u001b[0m         proxies\u001b[39m=\u001b[39;49mProxyConfiguration(\u001b[39m*\u001b[39;49m\u001b[39m*\u001b[39;49mproxies) \u001b[39mif\u001b[39;49;00m proxies \u001b[39melse\u001b[39;49;00m \u001b[39mNone\u001b[39;49;00m,\n\u001b[1;32m    721\u001b[0m         verify\u001b[39m=\u001b[39;49mverify,\n\u001b[1;32m    722\u001b[0m         overwrite\u001b[39m=\u001b[39;49moverwrite,\n\u001b[1;32m    723\u001b[0m         channel_strategy\u001b[39m=\u001b[39;49mchannel_strategy,\n\u001b[1;32m    724\u001b[0m         set_as_default\u001b[39m=\u001b[39;49mset_as_default,\n\u001b[1;32m    725\u001b[0m     )\n",
      "File \u001b[0;32m/opt/miniconda3/envs/cwq/lib/python3.12/site-packages/qiskit_ibm_runtime/accounts/management.py:65\u001b[0m, in \u001b[0;36mAccountManager.save\u001b[0;34m(cls, token, url, instance, channel, filename, name, proxies, verify, overwrite, channel_strategy, set_as_default)\u001b[0m\n\u001b[1;32m     55\u001b[0m filename \u001b[39m=\u001b[39m os\u001b[39m.\u001b[39mpath\u001b[39m.\u001b[39mexpanduser(filename)\n\u001b[1;32m     56\u001b[0m config \u001b[39m=\u001b[39m Account\u001b[39m.\u001b[39mcreate_account(\n\u001b[1;32m     57\u001b[0m     channel\u001b[39m=\u001b[39mchannel,\n\u001b[1;32m     58\u001b[0m     token\u001b[39m=\u001b[39mtoken,\n\u001b[0;32m   (...)\u001b[0m\n\u001b[1;32m     63\u001b[0m     channel_strategy\u001b[39m=\u001b[39mchannel_strategy,\n\u001b[1;32m     64\u001b[0m )\n\u001b[0;32m---> 65\u001b[0m \u001b[39mreturn\u001b[39;00m save_config(\n\u001b[1;32m     66\u001b[0m     filename\u001b[39m=\u001b[39;49mfilename,\n\u001b[1;32m     67\u001b[0m     name\u001b[39m=\u001b[39;49mname,\n\u001b[1;32m     68\u001b[0m     overwrite\u001b[39m=\u001b[39;49moverwrite,\n\u001b[1;32m     69\u001b[0m     config\u001b[39m=\u001b[39;49mconfig\n\u001b[1;32m     70\u001b[0m     \u001b[39m# avoid storing invalid accounts\u001b[39;49;00m\n\u001b[1;32m     71\u001b[0m     \u001b[39m.\u001b[39;49mvalidate()\u001b[39m.\u001b[39;49mto_saved_format(),\n\u001b[1;32m     72\u001b[0m     set_as_default\u001b[39m=\u001b[39;49mset_as_default,\n\u001b[1;32m     73\u001b[0m )\n",
      "File \u001b[0;32m/opt/miniconda3/envs/cwq/lib/python3.12/site-packages/qiskit_ibm_runtime/accounts/storage.py:35\u001b[0m, in \u001b[0;36msave_config\u001b[0;34m(filename, name, config, overwrite, set_as_default)\u001b[0m\n\u001b[1;32m     32\u001b[0m     data \u001b[39m=\u001b[39m json\u001b[39m.\u001b[39mload(json_in)\n\u001b[1;32m     34\u001b[0m \u001b[39mif\u001b[39;00m data\u001b[39m.\u001b[39mget(name) \u001b[39mand\u001b[39;00m \u001b[39mnot\u001b[39;00m overwrite:\n\u001b[0;32m---> 35\u001b[0m     \u001b[39mraise\u001b[39;00m AccountAlreadyExistsError(\n\u001b[1;32m     36\u001b[0m         \u001b[39mf\u001b[39m\u001b[39m\"\u001b[39m\u001b[39mNamed account (\u001b[39m\u001b[39m{\u001b[39;00mname\u001b[39m}\u001b[39;00m\u001b[39m) already exists. \u001b[39m\u001b[39m\"\u001b[39m \u001b[39mf\u001b[39m\u001b[39m\"\u001b[39m\u001b[39mSet overwrite=True to overwrite.\u001b[39m\u001b[39m\"\u001b[39m\n\u001b[1;32m     37\u001b[0m     )\n\u001b[1;32m     39\u001b[0m data[name] \u001b[39m=\u001b[39m config\n\u001b[1;32m     41\u001b[0m \u001b[39m# if set_as_default, but another account is defined as default, user must specify overwrite to change\u001b[39;00m\n\u001b[1;32m     42\u001b[0m \u001b[39m# the default account.\u001b[39;00m\n",
      "\u001b[0;31mAccountAlreadyExistsError\u001b[0m: 'Named account (default-ibm-quantum) already exists. Set overwrite=True to overwrite.'"
     ]
    }
   ],
   "source": [
    "QiskitRuntimeService.save_account(channel=\"ibm_quantum\",\n",
    "                               token = \"my token\")"
   ]
  },
  {
   "cell_type": "code",
   "execution_count": 19,
   "metadata": {},
   "outputs": [],
   "source": [
    "backend = service.backend(name= 'ibm_brisbane')"
   ]
  },
  {
   "cell_type": "code",
   "execution_count": 20,
   "metadata": {},
   "outputs": [
    {
     "data": {
      "text/plain": [
       "127"
      ]
     },
     "execution_count": 20,
     "metadata": {},
     "output_type": "execute_result"
    }
   ],
   "source": [
    "backend.num_qubits"
   ]
  },
  {
   "cell_type": "code",
   "execution_count": null,
   "metadata": {},
   "outputs": [],
   "source": []
  }
 ],
 "metadata": {
  "kernelspec": {
   "display_name": "cwq",
   "language": "python",
   "name": "python3"
  },
  "language_info": {
   "codemirror_mode": {
    "name": "ipython",
    "version": 3
   },
   "file_extension": ".py",
   "mimetype": "text/x-python",
   "name": "python",
   "nbconvert_exporter": "python",
   "pygments_lexer": "ipython3",
   "version": "3.12.3"
  },
  "orig_nbformat": 4
 },
 "nbformat": 4,
 "nbformat_minor": 2
}
